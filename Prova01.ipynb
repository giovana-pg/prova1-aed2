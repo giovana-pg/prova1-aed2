{
 "cells": [
  {
   "cell_type": "markdown",
   "id": "c324d081-44f7-4831-9a22-f4f4af3c1bbb",
   "metadata": {},
   "source": [
    "Implemente uma função que conte o número de elementos em uma lista encadeada. A função deve percorrer a lista e retornar o total de elementos.\n",
    "\n",
    "Especificações:\n",
    "A lista deve armazenar números inteiros.\n",
    "Implemente uma função que percorre a lista e conta quantos elementos estão inseridos.\n",
    "Levar em consideração o exemplo descrito na prova."
   ]
  },
  {
   "cell_type": "code",
   "execution_count": 1,
   "id": "7f5d53f3-9a85-438b-9573-add8705860c4",
   "metadata": {},
   "outputs": [],
   "source": [
    "class No:\n",
    "    def __init__(self, valor):\n",
    "        self.valor = valor\n",
    "        self.proximo = None\n",
    "\n",
    "class ListaEncadeada:\n",
    "    def __init__(self):\n",
    "        self.inicio = None\n",
    "\n",
    "    def inserir(self, valor):\n",
    "        novo_no = No(valor)\n",
    "        if self.inicio is None:\n",
    "            self.inicio = novo_no\n",
    "        else:\n",
    "            atual = self.inicio\n",
    "            while atual.proximo:\n",
    "                atual = atual.proximo\n",
    "            atual.proximo = novo_no\n",
    "\n",
    "    def contar(self):\n",
    "        contar_lista = 0\n",
    "        atual = self.inicio\n",
    "        while atual:\n",
    "            contar_lista += 1\n",
    "            atual = atual.proximo\n",
    "        return contar_lista\n"
   ]
  },
  {
   "cell_type": "code",
   "execution_count": 6,
   "id": "11d57c1e-6464-4941-9ab6-401714fc4ec2",
   "metadata": {},
   "outputs": [
    {
     "name": "stdout",
     "output_type": "stream",
     "text": [
      "Total de elementos na lista: 3\n"
     ]
    }
   ],
   "source": [
    "#Inserindo números na lista encadeada\n",
    "lista = ListaEncadeada()\n",
    "lista.inserir(5)\n",
    "lista.inserir(15)\n",
    "lista.inserir(25)\n",
    "\n",
    "#Contando o número de elementos:\n",
    "total_elementos = lista.contar()\n",
    "print(f'Total de elementos na lista: {total_elementos}')"
   ]
  }
 ],
 "metadata": {
  "kernelspec": {
   "display_name": "Python 3 (ipykernel)",
   "language": "python",
   "name": "python3"
  },
  "language_info": {
   "codemirror_mode": {
    "name": "ipython",
    "version": 3
   },
   "file_extension": ".py",
   "mimetype": "text/x-python",
   "name": "python",
   "nbconvert_exporter": "python",
   "pygments_lexer": "ipython3",
   "version": "3.12.4"
  }
 },
 "nbformat": 4,
 "nbformat_minor": 5
}
